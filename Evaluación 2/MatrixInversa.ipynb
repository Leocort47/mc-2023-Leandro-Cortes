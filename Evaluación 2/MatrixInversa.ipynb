{
  "nbformat": 4,
  "nbformat_minor": 0,
  "metadata": {
    "colab": {
      "provenance": []
    },
    "kernelspec": {
      "name": "python3",
      "display_name": "Python 3"
    },
    "language_info": {
      "name": "python"
    }
  },
  "cells": [
    {
      "cell_type": "code",
      "execution_count": 5,
      "metadata": {
        "colab": {
          "base_uri": "https://localhost:8080/"
        },
        "id": "558spYSVtFW-",
        "outputId": "241972ab-aacd-4989-e038-a0e13aaf6939"
      },
      "outputs": [
        {
          "output_type": "stream",
          "name": "stdout",
          "text": [
            "=== Matrix ===\n",
            "1  0  -1  \n",
            "2  0  2  \n",
            "8  2  -3  \n",
            "\n",
            "===Matrix inversa ===\n",
            "8  2  -3  0  0  1  \n",
            "1  0  -1  1  0  0  \n",
            "2  0  2  0  1  0  \n"
          ]
        }
      ],
      "source": [
        "def PrintMatrix(ar, n, m):\n",
        "    for i in range(n):\n",
        "        for j in range(m):\n",
        "            print(ar[i][j], end=\"  \")\n",
        "        print()\n",
        "    return\n",
        " \n",
        "\n",
        "def PrintInverse(ar, n, m):\n",
        "    for i in range(n):\n",
        "        for j in range(n, m):\n",
        "            print(\"%.3f  \" % ar[i][j], end=\"\")\n",
        "        print()\n",
        "    return\n",
        " \n",
        "\n",
        "def InverseOfMatrix(matrix, order):\n",
        "    \n",
        "    print(\"=== Matrix ===\")\n",
        "    PrintMatrix(matrix, order, order)\n",
        " \n",
        "    \n",
        "    for i in range(order):\n",
        "        for j in range(2 * order):\n",
        "            \n",
        "            if j == (i + order):\n",
        "                matrix[i][j] = 1\n",
        " \n",
        "    \n",
        "    for i in range(order - 1, 0, -1):\n",
        "        if matrix[i - 1][0] < matrix[i][0]:\n",
        "            tempArr = matrix[i]\n",
        "            matrix[i] = matrix[i - 1]\n",
        "            matrix[i - 1] = tempArr\n",
        " \n",
        "    \n",
        "    print(\"\\n===Matrix inversa ===\")\n",
        "    PrintMatrix(matrix, order, order * 2)\n",
        " \n",
        "    \n",
        "    for i in range(order):\n",
        "        for j in range(order):\n",
        "            if j != i:\n",
        "                temp = matrix[j][i] / matrix[i][i]\n",
        "                for k in range(2 * order):\n",
        "                    matrix[j][k] -= matrix[i][k] * temp\n",
        " \n",
        "    for i in range(order):\n",
        "        temp = matrix[i][i]\n",
        "        for j in range(2 * order):\n",
        "            matrix[i][j] = matrix[i][j] / temp\n",
        " \n",
        "    \n",
        "    #print(\"\\n=== Inverse Matrix ===\")\n",
        "    #PrintInverse(matrix, order, 2 * order)\n",
        " \n",
        "    return\n",
        " \n",
        "\n",
        "def main():\n",
        "    order = 3\n",
        " \n",
        "    matrix = [[0 for i in range(20)] for j in range(20)]\n",
        " \n",
        "    matrix[0][0] = 1\n",
        "    matrix[0][1] = 0\n",
        "    matrix[0][2] = -1\n",
        "    matrix[1][0] = 2\n",
        "    matrix[1][1] = 0\n",
        "    matrix[1][2] = 2\n",
        "    matrix[2][0] = 8\n",
        "    matrix[2][1] = 2\n",
        "    matrix[2][2] = -3\n",
        " \n",
        "    # Get the inverse of matrix\n",
        "    InverseOfMatrix(matrix, order)\n",
        " \n",
        "if __name__ == '__main__':\n",
        "    main()"
      ]
    }
  ]
}