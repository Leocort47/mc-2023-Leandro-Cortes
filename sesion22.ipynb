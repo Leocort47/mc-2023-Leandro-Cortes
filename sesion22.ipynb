{
  "nbformat": 4,
  "nbformat_minor": 0,
  "metadata": {
    "colab": {
      "provenance": []
    },
    "kernelspec": {
      "name": "python3",
      "display_name": "Python 3"
    },
    "language_info": {
      "name": "python"
    }
  },
  "cells": [
    {
      "cell_type": "code",
      "execution_count": 1,
      "metadata": {
        "colab": {
          "base_uri": "https://localhost:8080/"
        },
        "id": "EyLM6LLLy6Kg",
        "outputId": "2f41e941-ecca-4683-ecab-54eae2a08cbc"
      },
      "outputs": [
        {
          "output_type": "stream",
          "name": "stdout",
          "text": [
            "Polinomio de grado 1: 3.1\n",
            "Polinomio de grado 2: 3.0500000000000003\n",
            "Polinomio de grado 3: 3.1718750000000004\n"
          ]
        }
      ],
      "source": [
        "def lagrange_interpolation(x, y, target):\n",
        "    \"\"\"\n",
        "    Realiza la interpolación de Lagrange para estimar el valor de f(target).\n",
        "    x: Lista de valores x de los puntos.\n",
        "    y: Lista de valores y de los puntos.\n",
        "    target: Valor de x para el cual se desea estimar f(target).\n",
        "    Retorna: El valor estimado de f(target).\n",
        "    \"\"\"\n",
        "    n = len(x)\n",
        "    result = 0.0\n",
        "\n",
        "    for i in range(n):\n",
        "        term = y[i]\n",
        "        for j in range(n):\n",
        "            if j != i:\n",
        "                term *= (target - x[j]) / (x[i] - x[j])\n",
        "        result += term\n",
        "\n",
        "    return result\n",
        "\n",
        "# Puntos dados\n",
        "x = [0, 1, 2, 3, 4]\n",
        "y = [1, 0.2, 2, 4.2, 5]\n",
        "\n",
        "# Grado 1\n",
        "poly_1 = lagrange_interpolation([2, 3], [2, 4.2], 2.5)\n",
        "print(\"Polinomio de grado 1:\", poly_1)\n",
        "\n",
        "# Grado 2\n",
        "poly_2 = lagrange_interpolation([1, 2, 3], [0.2, 2, 4.2], 2.5)\n",
        "print(\"Polinomio de grado 2:\", poly_2)\n",
        "\n",
        "# Grado 3\n",
        "poly_3 = lagrange_interpolation(x, y, 2.5)\n",
        "print(\"Polinomio de grado 3:\", poly_3)\n"
      ]
    }
  ]
}